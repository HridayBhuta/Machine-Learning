{
 "cells": [
  {
   "cell_type": "markdown",
   "metadata": {},
   "source": [
    "Naive Bayes Without any Library"
   ]
  },
  {
   "cell_type": "code",
   "execution_count": null,
   "metadata": {},
   "outputs": [],
   "source": [
    "import math\n",
    "import random\n",
    "import pandas as pd\n",
    "import numpy as np"
   ]
  },
  {
   "cell_type": "code",
   "execution_count": null,
   "metadata": {},
   "outputs": [],
   "source": [
    "def encode_class(mydata):\n",
    "\tclasses = []\n",
    "\tfor i in range(len(mydata)):\n",
    "\t\tif mydata[i][-1] not in classes:\n",
    "\t\t\tclasses.append(mydata[i][-1])\n",
    "\tfor i in range(len(classes)):\n",
    "\t\tfor j in range(len(mydata)):\n",
    "\t\t\tif mydata[j][-1] == classes[i]:\n",
    "\t\t\t\tmydata[j][-1] = i\n",
    "\treturn mydata"
   ]
  },
  {
   "cell_type": "code",
   "execution_count": null,
   "metadata": {},
   "outputs": [],
   "source": [
    "def splitting(mydata, ratio):\n",
    "\ttrain_num = int(len(mydata) * ratio)\n",
    "\ttrain = []\n",
    "\ttest = list(mydata)\n",
    "\twhile len(train) < train_num:\n",
    "\t\tindex = random.randrange(len(test))\n",
    "\t\ttrain.append(test.pop(index))\n",
    "\treturn train, test"
   ]
  },
  {
   "cell_type": "code",
   "execution_count": null,
   "metadata": {},
   "outputs": [],
   "source": [
    "def groupUnderClass(mydata):\n",
    "\tdata_dict = {}\n",
    "\tfor i in range(len(mydata)):\n",
    "\t\tif mydata[i][-1] not in data_dict:\n",
    "\t\t\tdata_dict[mydata[i][-1]] = []\n",
    "\t\tdata_dict[mydata[i][-1]].append(mydata[i])\n",
    "\treturn data_dict"
   ]
  },
  {
   "cell_type": "code",
   "execution_count": null,
   "metadata": {},
   "outputs": [],
   "source": [
    "def MeanAndStdDev(numbers):\n",
    "\tavg = np.mean(numbers)\n",
    "\tstddev = np.std(numbers)\n",
    "\treturn avg, stddev\n",
    "\n",
    "def MeanAndStdDevForClass(mydata):\n",
    "\tinfo = {}\n",
    "\tdata_dict = groupUnderClass(mydata)\n",
    "\tfor classValue, instances in data_dict.items():\n",
    "\t\tinfo[classValue] = [MeanAndStdDev(attribute) for attribute in zip(*instances)]\n",
    "\treturn info"
   ]
  },
  {
   "cell_type": "code",
   "execution_count": null,
   "metadata": {},
   "outputs": [],
   "source": [
    "def calculateGaussianProbability(x, mean, stdev):\n",
    "\tepsilon = 1e-10\n",
    "\texpo = math.exp(-(math.pow(x - mean, 2) / (2 * math.pow(stdev + epsilon, 2))))\n",
    "\treturn (1 / (math.sqrt(2 * math.pi) * (stdev + epsilon))) * expo\n",
    "\n",
    "def calculateClassProbabilities(info, test):\n",
    "\tprobabilities = {}\n",
    "\tfor classValue, classSummaries in info.items():\n",
    "\t\tprobabilities[classValue] = 1\n",
    "\t\tfor i in range(len(classSummaries)):\n",
    "\t\t\tmean, std_dev = classSummaries[i]\n",
    "\t\t\tx = test[i]\n",
    "\t\t\tprobabilities[classValue] *= calculateGaussianProbability(x, mean, std_dev)\n",
    "\treturn probabilities"
   ]
  },
  {
   "cell_type": "code",
   "execution_count": null,
   "metadata": {},
   "outputs": [],
   "source": [
    "def predict(info, test):\n",
    "\tprobabilities = calculateClassProbabilities(info, test)\n",
    "\tbestLabel = max(probabilities, key=probabilities.get)\n",
    "\treturn bestLabel\n",
    "\n",
    "def getPredictions(info, test):\n",
    "\tpredictions = [predict(info, instance) for instance in test]\n",
    "\treturn predictions"
   ]
  },
  {
   "cell_type": "code",
   "execution_count": null,
   "metadata": {},
   "outputs": [],
   "source": [
    "def accuracy_rate(test, predictions):\n",
    "\tcorrect = sum(1 for i in range(len(test)) if test[i][-1] == predictions[i])\n",
    "\treturn (correct / float(len(test))) * 100.0"
   ]
  },
  {
   "cell_type": "markdown",
   "metadata": {},
   "source": [
    "Now just add the dataset below and use the code given above"
   ]
  },
  {
   "cell_type": "code",
   "execution_count": null,
   "metadata": {},
   "outputs": [],
   "source": [
    "# Load data using pandas\n",
    "filename = '' # Add the correct file path\n",
    "df = pd.read_csv(filename)\n",
    "mydata = df.values.tolist()\n",
    "\n",
    "# Encode classes and convert attributes to float\n",
    "mydata = encode_class(mydata)\n",
    "for i in range(len(mydata)):\n",
    "\tfor j in range(len(mydata[i]) - 1):\n",
    "\t\tmydata[i][j] = float(mydata[i][j])"
   ]
  },
  {
   "cell_type": "code",
   "execution_count": null,
   "metadata": {},
   "outputs": [],
   "source": [
    "ratio = 0.7\n",
    "train_data, test_data = splitting(mydata, ratio)\n",
    "\n",
    "print('Total number of examples:', len(mydata))\n",
    "print('Training examples:', len(train_data))\n",
    "print('Test examples:', len(test_data))"
   ]
  },
  {
   "cell_type": "code",
   "execution_count": null,
   "metadata": {},
   "outputs": [],
   "source": [
    "info = MeanAndStdDevForClass(train_data)\n",
    "\n",
    "predictions = getPredictions(info, test_data)\n",
    "accuracy = accuracy_rate(test_data, predictions)\n",
    "print('Accuracy of the model:', accuracy)"
   ]
  }
 ],
 "metadata": {
  "kernelspec": {
   "display_name": "Python 3",
   "language": "python",
   "name": "python3"
  },
  "language_info": {
   "name": "python",
   "version": "3.12.1"
  }
 },
 "nbformat": 4,
 "nbformat_minor": 2
}
